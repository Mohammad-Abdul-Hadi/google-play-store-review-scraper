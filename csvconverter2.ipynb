{
 "cells": [
  {
   "cell_type": "code",
   "execution_count": 75,
   "metadata": {
    "collapsed": true
   },
   "outputs": [],
   "source": [
    "import numpy as np\n",
    "import pandas as pd"
   ]
  },
  {
   "cell_type": "code",
   "execution_count": 76,
   "metadata": {
    "collapsed": true
   },
   "outputs": [],
   "source": [
    "j=0\n",
    "count=0"
   ]
  },
  {
   "cell_type": "code",
   "execution_count": 77,
   "metadata": {
    "collapsed": true
   },
   "outputs": [],
   "source": [
    "uname_arr=[]\n",
    "date_arr=[]\n",
    "score_arr=[]\n",
    "url_arr=[]\n",
    "appid_arr=[]\n",
    "reviewid_arr=[]\n",
    "reviewtitle_arr=[]\n",
    "reviewtext_arr=[]\n",
    "replydate_arr=[]\n",
    "replytext_arr=[]\n",
    "version_arr=[]\n",
    "thumbsup_arr=[]"
   ]
  },
  {
   "cell_type": "code",
   "execution_count": 78,
   "metadata": {},
   "outputs": [
    {
     "ename": "KeyboardInterrupt",
     "evalue": "",
     "output_type": "error",
     "traceback": [
      "\u001b[1;31m---------------------------------------------------------------------------\u001b[0m",
      "\u001b[1;31mKeyboardInterrupt\u001b[0m                         Traceback (most recent call last)",
      "\u001b[1;32m<ipython-input-78-858c99b33d24>\u001b[0m in \u001b[0;36m<module>\u001b[1;34m()\u001b[0m\n\u001b[0;32m     11\u001b[0m \u001b[1;33m\u001b[0m\u001b[0m\n\u001b[0;32m     12\u001b[0m \u001b[1;32mfor\u001b[0m \u001b[0mline\u001b[0m \u001b[1;32min\u001b[0m \u001b[0mlines\u001b[0m\u001b[1;33m:\u001b[0m\u001b[1;33m\u001b[0m\u001b[0m\n\u001b[1;32m---> 13\u001b[1;33m     \u001b[0msplitted_line\u001b[0m \u001b[1;33m=\u001b[0m \u001b[0mline\u001b[0m\u001b[1;33m.\u001b[0m\u001b[0msplit\u001b[0m\u001b[1;33m(\u001b[0m\u001b[1;34m\",\"\u001b[0m\u001b[1;33m)\u001b[0m\u001b[1;33m\u001b[0m\u001b[0m\n\u001b[0m\u001b[0;32m     14\u001b[0m     \u001b[1;32mif\u001b[0m \u001b[1;34m':{\"title\":'\u001b[0m \u001b[1;32min\u001b[0m \u001b[0msplitted_line\u001b[0m\u001b[1;33m[\u001b[0m\u001b[1;36m0\u001b[0m\u001b[1;33m]\u001b[0m\u001b[1;33m:\u001b[0m\u001b[1;33m\u001b[0m\u001b[0m\n\u001b[0;32m     15\u001b[0m         \u001b[0mno_of_apps\u001b[0m\u001b[1;33m+=\u001b[0m\u001b[1;36m1\u001b[0m\u001b[1;33m\u001b[0m\u001b[0m\n",
      "\u001b[1;31mKeyboardInterrupt\u001b[0m: "
     ]
    }
   ],
   "source": [
    "with open(\"revs.txt\", errors='ignore') as file:\n",
    "    lines = file.readlines()\n",
    "    \n",
    "\n",
    "    \n",
    "reviews=[]\n",
    "no_of_apps = 0\n",
    "no_of_revs = 0\n",
    "\n",
    "    \n",
    "    \n",
    "for line in lines:\n",
    "    splitted_line = line.split(\",\")\n",
    "    if ':{\"title\":' in splitted_line[0]:\n",
    "        no_of_apps+=1\n",
    "        #print(\" App_details\",no_of_apps)\n",
    "    elif ':[{\"id\":' in splitted_line[0]:# reviews processing\n",
    "        no_of_revs+=1\n",
    "        for i in range(len(splitted_line)):\n",
    "            \n",
    "            \n",
    "            if '\"userName\":' in splitted_line[i] :\n",
    "                count=count+1\n",
    "                name = splitted_line[i].split(\":\")[1]\n",
    "                uname_arr.append(name)#print(name, \"sno\", count)\n",
    "                \n",
    "            if '\"date\":' in splitted_line[i] :\n",
    "                date = splitted_line[i].split(\":\")[1]\n",
    "                date = date.split(\"T\")[0]+'\"'\n",
    "                date_arr.append(date)##print(date)\n",
    "                \n",
    "            if '\"scoreText\":' in splitted_line[i] :\n",
    "                score = splitted_line[i].split(\":\")[1]\n",
    "                score_arr.append(score)#print(score)\n",
    "                \n",
    "            if '\"title\":' in splitted_line[i] :\n",
    "                title = splitted_line[i].split(\":\")[1]\n",
    "                reviewtitle_arr.append(title)#print(title)\n",
    "                \n",
    "            if '\"text\":' in splitted_line[i] :\n",
    "                text = splitted_line[i].split(\":\")[1]\n",
    "                j=i+1\n",
    "                \n",
    "                while(True):\n",
    "                    \n",
    "                    if '\"replyDate\":' in splitted_line[j]:\n",
    "                        \n",
    "                        i= j -1\n",
    "                        break\n",
    "\n",
    "                    elif '\"replyDate\":' not in splitted_line[j] :\n",
    "                \n",
    "                        text = text +\" \"+ splitted_line[j]\n",
    "                        j = j+1\n",
    "                    \n",
    "                reviewtext_arr.append(text)#.append(text)#print(text)\n",
    "            \n",
    "            if '\"replyDate\":' in splitted_line[i] :\n",
    "                reply_date = splitted_line[i].split(\":\")[1]\n",
    "                reply_date = reply_date.split(\"T\")[0]\n",
    "                replydate_arr.append(reply_date)#uname.append(name)#print(reply_date)\n",
    "        \n",
    "            if '\"replyText\":' in splitted_line[i] :\n",
    "                rep_text = splitted_line[i].split(\":\")[1]\n",
    "                j=i+1\n",
    "\n",
    "                while(True):\n",
    "                    \n",
    "                    if '\"version\":' in splitted_line[j] :\n",
    "                        i= j -1\n",
    "                        break\n",
    "\n",
    "                    elif '\"version\":' not in splitted_line[j] :\n",
    "\n",
    "                        rep_text = rep_text +\" \"+ splitted_line[j]\n",
    "                        j = j+1\n",
    "\n",
    "                replytext_arr.append(rep_text)#print(\"Reply Text\", rep_text)\n",
    "            \n",
    "\n",
    "            if '\"version\":' in splitted_line[i] :\n",
    "                version = splitted_line[i].split(\":\")[1]\n",
    "                version_arr.append(version)#print(version)\n",
    "\n",
    "            if '\"thumbsUp\":' in splitted_line[i] :\n",
    "                thumbsup = splitted_line[i].split(\":\")[1]\n",
    "                thumbsup_arr.append(thumbsup)#print(\"Thumbs up\", thumbsup)\n",
    "\n",
    "            if '\"url\":' in splitted_line[i] :\n",
    "                fin_url=\"https:\"\n",
    "                ur = splitted_line[i].split(\":\")\n",
    "                for ju in ur[2:]:\n",
    "                    fin_url = fin_url + ju\n",
    "                url_arr.append(fin_url)#print(\"Url\", fin_url)\n",
    "\n",
    "                app_id = fin_url.split(\"?\")[1]\n",
    "                app_id = app_id.split(\"&\")[0]\n",
    "                app_id = app_id.split(\"=\")[1]\n",
    "                appid_arr.append(app_id)#print(\"App Id\", app_id)\n",
    "                rev_id = fin_url.split(\"?\")[1]\n",
    "                rev_id = rev_id.split(\"&\")\n",
    "                rev_id = rev_id[1].split(\"=\")[1]\n",
    "                rev_id = rev_id[:len(rev_id)-1]\n",
    "                reviewid_arr.append(rev_id)#print(\"Rev_id\", rev_id)\n",
    "        "
   ]
  },
  {
   "cell_type": "code",
   "execution_count": 71,
   "metadata": {},
   "outputs": [],
   "source": [
    "reviews = []\n",
    "for i in range(len(reviewtext_arr)):\n",
    "    if()\n",
    "    review = []\n",
    "    review.append(appid_arr[i])\n",
    "    review.append(reviewid_arr[i])\n",
    "    review.append(version_arr[i])\n",
    "    review.append(date_arr[i])\n",
    "    review.append(uname_arr[i])\n",
    "    review.append(url_arr[i])\n",
    "    review.append(score_arr[i])\n",
    "    review.append(reviewtitle_arr[i])\n",
    "    review.append(reviewtext_arr[i])\n",
    "    review.append(thumbsup_arr[i])\n",
    "    review.append(replydate_arr[i])\n",
    "    review.append(replytext_arr[i])\n",
    "    reviews.append(review)"
   ]
  },
  {
   "cell_type": "code",
   "execution_count": 72,
   "metadata": {},
   "outputs": [
    {
     "data": {
      "text/plain": [
       "29454"
      ]
     },
     "execution_count": 72,
     "metadata": {},
     "output_type": "execute_result"
    }
   ],
   "source": [
    "len(replytext_arr)"
   ]
  },
  {
   "cell_type": "code",
   "execution_count": 73,
   "metadata": {},
   "outputs": [],
   "source": [
    "df = pd.DataFrame(reviews, columns=[\"AppId\", \"ReviewId\", \"Version\", \"Date\", \"UserName\", \"Url\", \"Score\", \"RevTitle\",\"Review\",\"Thumbsup\",\"Replydate\",\"Replytext\"])"
   ]
  },
  {
   "cell_type": "code",
   "execution_count": 74,
   "metadata": {},
   "outputs": [],
   "source": [
    "df.to_csv(\"reviews.csv\", index=False)"
   ]
  },
  {
   "cell_type": "code",
   "execution_count": null,
   "metadata": {
    "collapsed": true
   },
   "outputs": [],
   "source": []
  }
 ],
 "metadata": {
  "kernelspec": {
   "display_name": "Python 3",
   "language": "python",
   "name": "python3"
  },
  "language_info": {
   "codemirror_mode": {
    "name": "ipython",
    "version": 3
   },
   "file_extension": ".py",
   "mimetype": "text/x-python",
   "name": "python",
   "nbconvert_exporter": "python",
   "pygments_lexer": "ipython3",
   "version": "3.6.3"
  }
 },
 "nbformat": 4,
 "nbformat_minor": 2
}
