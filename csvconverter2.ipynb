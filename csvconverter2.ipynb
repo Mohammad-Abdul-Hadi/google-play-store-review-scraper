{
 "cells": [
  {
   "cell_type": "code",
   "execution_count": 1,
   "metadata": {},
   "outputs": [],
   "source": [
    "import numpy as np\n",
    "import pandas as pd\n",
    "import play_scraper"
   ]
  },
  {
   "cell_type": "code",
   "execution_count": 2,
   "metadata": {},
   "outputs": [],
   "source": [
    "j=0\n",
    "count=0"
   ]
  },
  {
   "cell_type": "code",
   "execution_count": 3,
   "metadata": {},
   "outputs": [],
   "source": [
    "uname_arr=[]\n",
    "date_arr=[]\n",
    "score_arr=[]\n",
    "url_arr=[]\n",
    "appid_arr=[]\n",
    "reviewid_arr=[]\n",
    "reviewtitle_arr=[]\n",
    "reviewtext_arr=[]\n",
    "replydate_arr=[]\n",
    "replytext_arr=[]\n",
    "version_arr=[]\n",
    "thumbsup_arr=[]"
   ]
  },
  {
   "cell_type": "code",
   "execution_count": 4,
   "metadata": {},
   "outputs": [],
   "source": [
    "with open(\"test.txt\", errors='ignore') as file:\n",
    "    lines = file.readlines()\n",
    "    \n",
    "\n",
    "    \n",
    "reviews=[]\n",
    "no_of_apps = 0\n",
    "no_of_revs = 0\n",
    "\n",
    "    \n",
    "    \n",
    "for line in lines:\n",
    "    splitted_line = line.split(\",\")\n",
    "    if ':{\"title\":' in splitted_line[0]:\n",
    "        no_of_apps+=1\n",
    "        #print(\" App_details\",no_of_apps)\n",
    "    elif ':[{\"id\":' in splitted_line[0]:# reviews processing\n",
    "        no_of_revs+=1\n",
    "        for i in range(len(splitted_line)):\n",
    "            \n",
    "            \n",
    "            if '\"userName\":' in splitted_line[i] :\n",
    "                count=count+1\n",
    "                name = splitted_line[i].split(\":\")[1]\n",
    "                uname_arr.append(name)#print(name, \"sno\", count)\n",
    "                \n",
    "            if '\"date\":' in splitted_line[i] :\n",
    "                date = splitted_line[i].split(\":\")[1]\n",
    "                date = date.split(\"T\")[0]+'\"'\n",
    "                date_arr.append(date)##print(date)\n",
    "                \n",
    "            if '\"scoreText\":' in splitted_line[i] :\n",
    "                score = splitted_line[i].split(\":\")[1]\n",
    "                score_arr.append(score)#print(score)\n",
    "                \n",
    "            if '\"title\":' in splitted_line[i] :\n",
    "                title = splitted_line[i].split(\":\")[1]\n",
    "                reviewtitle_arr.append(title)#print(title)\n",
    "                \n",
    "            if '\"text\":' in splitted_line[i] :\n",
    "                text = splitted_line[i].split(\":\")[1]\n",
    "                j=i+1\n",
    "                \n",
    "                while(True):\n",
    "                    \n",
    "                    if '\"replyDate\":' in splitted_line[j]:\n",
    "                        \n",
    "                        i= j -1\n",
    "                        break\n",
    "\n",
    "                    elif '\"replyDate\":' not in splitted_line[j] :\n",
    "                \n",
    "                        text = text +\" \"+ splitted_line[j]\n",
    "                        j = j+1\n",
    "                    \n",
    "                reviewtext_arr.append(text)#.append(text)#print(text)\n",
    "            \n",
    "            if '\"replyDate\":' in splitted_line[i] :\n",
    "                reply_date = splitted_line[i].split(\":\")[1]\n",
    "                reply_date = reply_date.split(\"T\")[0]\n",
    "                replydate_arr.append(reply_date)#uname.append(name)#print(reply_date)\n",
    "        \n",
    "            if '\"replyText\":' in splitted_line[i] :\n",
    "                rep_text = splitted_line[i].split(\":\")[1]\n",
    "                j=i+1\n",
    "\n",
    "                while(True):\n",
    "                    \n",
    "                    if '\"version\":' in splitted_line[j] :\n",
    "                        i= j -1\n",
    "                        break\n",
    "\n",
    "                    elif '\"version\":' not in splitted_line[j] :\n",
    "\n",
    "                        rep_text = rep_text +\" \"+ splitted_line[j]\n",
    "                        j = j+1\n",
    "\n",
    "                replytext_arr.append(rep_text)#print(\"Reply Text\", rep_text)\n",
    "            \n",
    "\n",
    "            if '\"version\":' in splitted_line[i] :\n",
    "                version = splitted_line[i].split(\":\")[1]\n",
    "                version_arr.append(version)#print(version)\n",
    "\n",
    "            if '\"thumbsUp\":' in splitted_line[i] :\n",
    "                thumbsup = splitted_line[i].split(\":\")[1]\n",
    "                thumbsup_arr.append(thumbsup)#print(\"Thumbs up\", thumbsup)\n",
    "\n",
    "            if '\"url\":' in splitted_line[i] :\n",
    "                fin_url=\"https:\"\n",
    "                ur = splitted_line[i].split(\":\")\n",
    "                for ju in ur[2:]:\n",
    "                    fin_url = fin_url + ju\n",
    "                url_arr.append(fin_url)#print(\"Url\", fin_url)\n",
    "\n",
    "                app_id = fin_url.split(\"?\")[1]\n",
    "                app_id = app_id.split(\"&\")[0]\n",
    "                app_id = app_id.split(\"=\")[1]\n",
    "                appid_arr.append(app_id)#print(\"App Id\", app_id)\n",
    "                rev_id = fin_url.split(\"?\")[1]\n",
    "                rev_id = rev_id.split(\"&\")\n",
    "                rev_id = rev_id[1].split(\"=\")[1]\n",
    "                rev_id = rev_id[:len(rev_id)-1]\n",
    "                reviewid_arr.append(rev_id)#print(\"Rev_id\", rev_id)\n",
    "        "
   ]
  },
  {
   "cell_type": "code",
   "execution_count": 5,
   "metadata": {},
   "outputs": [],
   "source": [
    "unique_appid = []\n",
    "s =set(appid_arr)\n",
    "for each_s in s:\n",
    "    unique_appid.append(each_s)"
   ]
  },
  {
   "cell_type": "code",
   "execution_count": 6,
   "metadata": {},
   "outputs": [],
   "source": [
    "app_details_dictionary={}"
   ]
  },
  {
   "cell_type": "code",
   "execution_count": 7,
   "metadata": {},
   "outputs": [],
   "source": [
    "for each_id in unique_appid:\n",
    "    dets = []\n",
    "    dictionary = play_scraper.details(each_id)\n",
    "    dets.append(dictionary[\"title\"])\n",
    "    dets.append(dictionary[\"description\"])\n",
    "    dets.append(dictionary[\"category\"])\n",
    "    dets.append(dictionary[\"required_android_version\"])\n",
    "    dets.append(dictionary[\"size\"])\n",
    "    dets.append(dictionary[\"price\"])\n",
    "    dets.append(dictionary[\"reviews\"])\n",
    "    dets.append(dictionary[\"recent_changes\"])\n",
    "    dets.append(dictionary[\"installs\"])\n",
    "    dets.append(dictionary[\"content_rating\"])\n",
    "    app_details_dictionary[each_id]= dets"
   ]
  },
  {
   "cell_type": "code",
   "execution_count": 8,
   "metadata": {},
   "outputs": [],
   "source": [
    "reviews = []\n",
    "for i in range(len(reviewtext_arr)):\n",
    "    review = []\n",
    "    review.append(appid_arr[i])\n",
    "    review.append(reviewid_arr[i])\n",
    "    review.append(version_arr[i])\n",
    "    review.append(date_arr[i])\n",
    "    review.append(uname_arr[i])\n",
    "    review.append(url_arr[i])\n",
    "    review.append(score_arr[i])\n",
    "    review.append(reviewtitle_arr[i])\n",
    "    review.append(reviewtext_arr[i])\n",
    "    review.append(thumbsup_arr[i])\n",
    "    review.append(replydate_arr[i])\n",
    "    review.append(replytext_arr[i])\n",
    "    reviews.append(review)"
   ]
  },
  {
   "cell_type": "code",
   "execution_count": 9,
   "metadata": {},
   "outputs": [],
   "source": [
    "final_list =[]\n",
    "\n",
    "for r in range(len(reviews)):\n",
    "    curr_appid = reviews[r][0]\n",
    "    \n",
    "    \n",
    "    if curr_appid in app_details_dictionary:\n",
    "        khali=[]\n",
    "        khali = app_details_dictionary[curr_appid] + reviews[r]\n",
    "        final_list.append(khali)"
   ]
  },
  {
   "cell_type": "code",
   "execution_count": 11,
   "metadata": {},
   "outputs": [],
   "source": [
    "df = pd.DataFrame(final_list, columns=[\"AppName\",\"AppDescription\",\"Category\", \"AndroidVersionRequired\", \"Size\", \"Price\",\"NoOfReviews\",\"RecentChanges\",\"Installs\",\"ContentRating\", \"AppId\", \"ReviewId\", \"Version\", \"Date\", \"UserName\", \"Url\", \"Score\", \"RevTitle\",\"Review\",\"Thumbsup\",\"Replydate\",\"Replytext\"])"
   ]
  },
  {
   "cell_type": "code",
   "execution_count": 12,
   "metadata": {},
   "outputs": [],
   "source": [
    "df.to_csv(\"reviews.csv\", index=False)"
   ]
  }
 ],
 "metadata": {
  "kernelspec": {
   "display_name": "Python 3",
   "language": "python",
   "name": "python3"
  },
  "language_info": {
   "codemirror_mode": {
    "name": "ipython",
    "version": 3
   },
   "file_extension": ".py",
   "mimetype": "text/x-python",
   "name": "python",
   "nbconvert_exporter": "python",
   "pygments_lexer": "ipython3",
   "version": "3.7.4"
  }
 },
 "nbformat": 4,
 "nbformat_minor": 2
}
